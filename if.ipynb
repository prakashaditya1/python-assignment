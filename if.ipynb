{
 "cells": [
  {
   "cell_type": "markdown",
   "id": "26b86999",
   "metadata": {},
   "source": [
    " Write a program to check whether a number entered\n",
    "is three-digit number or not?"
   ]
  },
  {
   "cell_type": "code",
   "execution_count": 5,
   "id": "484d7ef4",
   "metadata": {},
   "outputs": [
    {
     "ename": "ValueError",
     "evalue": "invalid literal for int() with base 10: ''",
     "output_type": "error",
     "traceback": [
      "\u001b[1;31m---------------------------------------------------------------------------\u001b[0m",
      "\u001b[1;31mValueError\u001b[0m                                Traceback (most recent call last)",
      "Cell \u001b[1;32mIn[5], line 1\u001b[0m\n\u001b[1;32m----> 1\u001b[0m num1\u001b[38;5;241m=\u001b[39m\u001b[38;5;28mint\u001b[39m(\u001b[38;5;28minput\u001b[39m(\u001b[38;5;124m\"\u001b[39m\u001b[38;5;124mEnter your number:\u001b[39m\u001b[38;5;124m\"\u001b[39m))\n\u001b[0;32m      2\u001b[0m \u001b[38;5;28;01mif\u001b[39;00m(num1 \u001b[38;5;241m<\u001b[39m \u001b[38;5;241m1000\u001b[39m \u001b[38;5;129;01mand\u001b[39;00m num1 \u001b[38;5;241m>\u001b[39m \u001b[38;5;241m99\u001b[39m):\n\u001b[0;32m      3\u001b[0m     \u001b[38;5;28mprint\u001b[39m(\u001b[38;5;124m\"\u001b[39m\u001b[38;5;132;01m{}\u001b[39;00m\u001b[38;5;124m is a 3 digit number \u001b[39m\u001b[38;5;124m\"\u001b[39m\u001b[38;5;241m.\u001b[39mformat(num1))\n",
      "\u001b[1;31mValueError\u001b[0m: invalid literal for int() with base 10: ''"
     ]
    }
   ],
   "source": [
    "num1=int(input(\"Enter your number:\"))\n",
    "if(num1 < 1000 and num1 > 99):\n",
    "    print(\"{} is a 3 digit number \".format(num1))\n",
    "else:\n",
    "    print(\"{} is not a 3 digit number\".format(num1))"
   ]
  },
  {
   "cell_type": "markdown",
   "id": "206d170a",
   "metadata": {},
   "source": []
  },
  {
   "cell_type": "markdown",
   "id": "327c4098",
   "metadata": {},
   "source": [
    "Write a program to check whether the last digit of a number\n",
    "(entered by user) is divisible by 3 or not?"
   ]
  },
  {
   "cell_type": "code",
   "execution_count": null,
   "id": "972bae4e",
   "metadata": {},
   "outputs": [
    {
     "name": "stdout",
     "output_type": "stream",
     "text": [
      "4 is not divisible by 3\n"
     ]
    }
   ],
   "source": [
    "num=int(input(\"Enter a number:\"))\n",
    "last_digit=num%10\n",
    "if(last_digit%3==0):\n",
    "    print(\"{} is divisible by 3 \".format(last_digit))\n",
    "else:\n",
    "    print(\"{} is not divisible by 3\".format(last_digit))"
   ]
  },
  {
   "cell_type": "markdown",
   "id": "be197465",
   "metadata": {},
   "source": [
    "Write a program to display \"Hello\" if a number entered\n",
    "by user is a multiple of five, otherwise print \"Bye\"?"
   ]
  },
  {
   "cell_type": "code",
   "execution_count": null,
   "id": "7d0e9cc0",
   "metadata": {},
   "outputs": [
    {
     "name": "stdout",
     "output_type": "stream",
     "text": [
      "Enter your number\n",
      "Hello\n"
     ]
    }
   ],
   "source": [
    "print(\"Enter your number\")\n",
    "num=int(input())\n",
    "if num%5==0:\n",
    "  print(\"Hello\")\n",
    "else:\n",
    "  print(\"Bye\")"
   ]
  },
  {
   "cell_type": "markdown",
   "id": "03967825",
   "metadata": {},
   "source": [
    "Accept the marks of English, Math and Science,\n",
    "Social Studies Subject and display the stream allotted\n",
    "according to following:\n",
    "\n",
    "All Subjects more than 80 marks — Science Stream\n",
    "\n",
    "English >80 and Math, Science above 50 — Commerce Stream\n",
    "\n",
    "English > 80 and social studies > 80 — Humanities"
   ]
  },
  {
   "cell_type": "markdown",
   "id": "4cb68f4b",
   "metadata": {},
   "source": [
    " Write a program to calculate the electricity bill\n",
    "using only if statement? (accept number of unit from user)\n",
    "according to the following criteria:\n",
    "\n",
    "Unit Price\n",
    "First 100 units no charge\n",
    "Next 100 units Rs 5 per unit\n",
    "After 200 units Rs 10 per unit\n",
    "(For example, if input unit is 350 than total bill amount is Rs2000). Lets explain...\n",
    "For first 100 no charges\n",
    "Now you have 250 unit remaining\n",
    "100-200 you need to pay – 100*5 = 500\n",
    "Now 200-100 you need to pay 150*10 = 1500\n",
    "Total = 500+1500 = 2000"
   ]
  },
  {
   "cell_type": "code",
   "execution_count": null,
   "id": "311bc44a",
   "metadata": {},
   "outputs": [
    {
     "ename": "SyntaxError",
     "evalue": "invalid syntax (347173007.py, line 14)",
     "output_type": "error",
     "traceback": [
      "\u001b[1;36m  Cell \u001b[1;32mIn[4], line 14\u001b[1;36m\u001b[0m\n\u001b[1;33m    print(\"Amount to pay :\", amt)323\u001b[0m\n\u001b[1;37m                                 ^\u001b[0m\n\u001b[1;31mSyntaxError\u001b[0m\u001b[1;31m:\u001b[0m invalid syntax\n"
     ]
    }
   ],
   "source": [
    "amt = 0\n",
    "nu = int(input(\"Enter number of electric units: \"))\n",
    "\n",
    "if nu <= 100:\n",
    "    amt = 0\n",
    "elif nu > 100 and nu <= 200:\n",
    "    amt = (nu - 100) * 5\n",
    "else:\n",
    "    amt = 500 + (nu - 200) * 10\n",
    "\n",
    "print(\"Amount to pay:\", amt)\n"
   ]
  },
  {
   "cell_type": "markdown",
   "id": "d20e9f50",
   "metadata": {},
   "source": [
    "Accept the age of 4 people and display the youngest one?"
   ]
  },
  {
   "cell_type": "code",
   "execution_count": null,
   "id": "e6a5a31e",
   "metadata": {},
   "outputs": [],
   "source": [
    "age1=int(input(\"Enter age of first person\"))\n",
    "\n",
    "age2=int(input(\"Enter age of second person\"))\n",
    "\n",
    "age3=int(input(\"Enter age of third person\"))\n",
    "\n",
    "age4=int(input(\"Enter age of fourth person\"))\n",
    "\n",
    "if age1 < age2 and age1 < age3 and age1 < age4:\n",
    "\n",
    "print(\"Age of oldest person is \",age1) if age2 < age1 and age2 < age3 and age2 < age4:\n",
    "\n",
    "print(\"Age of oldest person is \",age2) if age3 < age2 and age3 < age1\n",
    "\n",
    "and age3 < age4: print(\"Age of oldest person is\n",
    "\n",
    "\",age3) if age4 < age1 and age4 < age2 and age4 < age3:\n",
    "\n",
    "print(\"Age of oldest person is \",age4)"
   ]
  },
  {
   "cell_type": "markdown",
   "id": "cd2dd976",
   "metadata": {},
   "source": [
    "A company decided to give bonus to employee\n",
    "according to following criteria:\n",
    "\n",
    "Time period of Service Bonus\n",
    "\n",
    "More than 10 years 10%\n",
    "\n",
    ">=6 and <=10 8%\n",
    "\n",
    "Less than 6 years 5%\n",
    "\n",
    "Ask user for their salary and years of service and print the\n",
    "net bonus amount?"
   ]
  },
  {
   "cell_type": "code",
   "execution_count": null,
   "id": "910d85ec",
   "metadata": {},
   "outputs": [],
   "source": [
    "ser=int(input(\"Enter the time period of service\")) \n",
    "sal =int(input(\"Enter your salary\")) \n",
    "if ser > 10:\n",
    "     b=10/100*sal \n",
    "if ser >=6 and ser <=10:\n",
    "     b = 8/100*sal \n",
    "if ser < 6:\n",
    "     b = 5/100*sal \n",
    "print(\"Bonus is \", b)"
   ]
  },
  {
   "cell_type": "markdown",
   "id": "2a5b9f77",
   "metadata": {},
   "source": [
    " Write a program to accept percentage from the user and display\n",
    "the grade according to the following criteria:\n",
    "\n",
    "Marks Grade\n",
    "> 90 A\n",
    "> 80 and <= 90 B\n",
    ">= 60 and <= 80 C\n",
    "below 60 D"
   ]
  },
  {
   "cell_type": "code",
   "execution_count": null,
   "id": "beece9a4",
   "metadata": {},
   "outputs": [],
   "source": [
    "per = int(input(\"Enter marks\"))\n",
    "\n",
    "if per > 90:\n",
    "\n",
    "print(\"Grade is A\") if per > 80 and per <=90: print(\"Grade is B\")\n",
    "\n",
    "if per >=60 and per <= 80: print(\"Grade is C\") if per < 60:\n",
    "\n",
    "print(\"Grade is D\")"
   ]
  },
  {
   "cell_type": "markdown",
   "id": "8941701f",
   "metadata": {},
   "source": [
    "Accept three numbers from the user and\n",
    "display the second largest number?"
   ]
  },
  {
   "cell_type": "code",
   "execution_count": null,
   "id": "66d68cef",
   "metadata": {},
   "outputs": [],
   "source": [
    "num1=int(input(\"Enter first number\"))\n",
    "\n",
    "num2=int(input(\"Enter second number\"))\n",
    "\n",
    "num3=int(input(\"Enter third number\"))\n",
    "\n",
    "if (num1 > num2 and num1 < num3) or (num1 < num2 and num1 > num3):\n",
    "\n",
    "print(\"Middle number is \" num1)\n",
    "\n",
    "if (num2 > num1 and num2 < num3) or (num2 < num1 and num2 > num3):\n",
    "\n",
    "print(\"Middle number is\", num2)\n",
    "\n",
    "if (num3 > num2 and num3 < num1) or (num3 < num2 and num3 > num1):\n",
    "\n",
    "print(\"Middle number is\", num3)"
   ]
  }
 ],
 "metadata": {
  "kernelspec": {
   "display_name": "Python 3",
   "language": "python",
   "name": "python3"
  },
  "language_info": {
   "codemirror_mode": {
    "name": "ipython",
    "version": 3
   },
   "file_extension": ".py",
   "mimetype": "text/x-python",
   "name": "python",
   "nbconvert_exporter": "python",
   "pygments_lexer": "ipython3",
   "version": "3.11.7"
  }
 },
 "nbformat": 4,
 "nbformat_minor": 5
}
